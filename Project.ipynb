{
 "cells": [
  {
   "cell_type": "markdown",
   "metadata": {},
   "source": [
    "# Projekt z Genomiki Porównawczej\n",
    "\n",
    "## Pobieranie danych\n",
    "\n",
    "W ramach projektu odtworzę filogenezę wybranych cyjanobakterii. Analizę będę porównywać z wynikami z [tej](https://www.frontiersin.org/articles/10.3389/fmicb.2019.01612/full#h9) pracy.\n",
    "\n",
    "Numery accession są zawarte w plik `accessions.txt`:\n",
    "\n",
    "```bash\n",
    "$ cat accessions.txt\n",
    "CP003587\n",
    "CP000240\n",
    "CP017675\n",
    "CP002198\n",
    "BA000039\n",
    "CP000828\n",
    "AP008231\n",
    "CP000393\n",
    "CP003549\n",
    "MKZR01000001\n",
    "CP007754\n",
    "CP003495\n",
    "CP003597\n",
    "BA000019\n",
    "CP003659\n",
    "CP003590\n",
    "BX548175\n",
    "BA000045\n",
    "```"
   ]
  },
  {
   "cell_type": "markdown",
   "metadata": {},
   "source": [
    "Ściąganie sekwencji:"
   ]
  },
  {
   "cell_type": "code",
   "execution_count": 366,
   "metadata": {},
   "outputs": [],
   "source": [
    "import sys\n",
    "\n",
    "from Bio import SeqIO\n",
    "from Bio import Entrez\n",
    "\n",
    "accessions = [x.strip() for x in open(\"accessions.txt\", \"r\").readlines()]\n",
    "\n",
    "Entrez.email = \"stas.antonowicz@gmail.com\"\n",
    "entries = SeqIO.parse(\n",
    "    Entrez.efetch(db=\"nucleotide\", id=accessions, rettype=\"gb\", retmode=\"text\"), \"gb\"\n",
    ")\n",
    "for entry in entries:\n",
    "    with open(f\"gb/{entry.id}.gb\", \"w\") as handle:\n",
    "        SeqIO.write(entry, handle, \"gb\")"
   ]
  },
  {
   "cell_type": "markdown",
   "metadata": {},
   "source": [
    "## Wyciąganie genów"
   ]
  },
  {
   "cell_type": "markdown",
   "metadata": {},
   "source": [
    "Pliki genbankowe znajdują się w folderze `gb`. Otwórzmy je teraz."
   ]
  },
  {
   "cell_type": "code",
   "execution_count": 379,
   "metadata": {},
   "outputs": [],
   "source": [
    "import glob\n",
    "\n",
    "records = []\n",
    "from Bio import SeqIO\n",
    "\n",
    "for file in glob.glob(\"gb/*\"):\n",
    "    records.append(list(SeqIO.parse(file, \"gb\"))[0])"
   ]
  },
  {
   "cell_type": "code",
   "execution_count": 380,
   "metadata": {},
   "outputs": [
    {
     "data": {
      "text/plain": [
       "18"
      ]
     },
     "execution_count": 380,
     "metadata": {},
     "output_type": "execute_result"
    }
   ],
   "source": [
    "len(records)"
   ]
  },
  {
   "cell_type": "markdown",
   "metadata": {},
   "source": [
    "Spójrzmy, jak zadnotowane są genomy:"
   ]
  },
  {
   "cell_type": "code",
   "execution_count": 398,
   "metadata": {},
   "outputs": [
    {
     "name": "stdout",
     "output_type": "stream",
     "text": [
      "id: CP000828.1\n",
      "number of features: 12730\n",
      "Counter({'gene': 6396, 'CDS': 6254, 'tRNA': 69, 'rRNA': 6, 'misc_RNA': 4, 'source': 1})\n",
      "\n",
      "id: BX548175.1\n",
      "number of features: 6760\n",
      "Counter({'gene': 2969, 'CDS': 2915, 'misc_feature': 513, 'sig_peptide': 304, 'tRNA': 44, 'misc_RNA': 8, 'rRNA': 6, 'source': 1})\n",
      "\n",
      "id: CP003549.1\n",
      "number of features: 14731\n",
      "Counter({'gene': 6911, 'CDS': 6609, 'sig_peptide': 1129, 'tRNA': 52, 'repeat_region': 15, 'rRNA': 9, 'ncRNA': 5, 'source': 1})\n",
      "\n",
      "id: CP007754.1\n",
      "number of features: 4661\n",
      "Counter({'gene': 2330, 'CDS': 2287, 'tRNA': 40, 'rRNA': 3, 'source': 1})\n",
      "\n",
      "id: CP017675.1\n",
      "number of features: 6202\n",
      "Counter({'gene': 3035, 'CDS': 3034, 'assembly_gap': 86, 'tRNA': 42, 'rRNA': 3, 'source': 1, 'misc_feature': 1})\n",
      "\n",
      "id: CP003659.1\n",
      "number of features: 11809\n",
      "Counter({'gene': 5701, 'CDS': 5320, 'sig_peptide': 701, 'tRNA': 61, 'rRNA': 12, 'repeat_region': 10, 'ncRNA': 3, 'source': 1})\n",
      "\n",
      "id: BA000045.2\n",
      "number of features: 8963\n",
      "Counter({'gene': 4433, 'CDS': 4430, 'mobile_element': 47, 'tRNA': 45, 'rRNA': 3, 'misc_RNA': 2, 'source': 1, 'tmRNA': 1, 'ncRNA': 1})\n",
      "\n",
      "id: AP008231.1\n",
      "number of features: 5161\n",
      "Counter({'gene': 2580, 'CDS': 2525, 'tRNA': 45, 'rRNA': 6, 'misc_RNA': 2, 'source': 1, 'tmRNA': 1, 'ncRNA': 1})\n",
      "\n",
      "id: CP000393.1\n",
      "number of features: 10040\n",
      "Counter({'gene': 5124, 'CDS': 4451, 'sig_peptide': 416, 'tRNA': 38, 'rRNA': 5, 'misc_RNA': 4, 'source': 1, 'tmRNA': 1})\n",
      "\n",
      "id: CP003597.1\n",
      "number of features: 12020\n",
      "Counter({'gene': 5665, 'CDS': 5408, 'sig_peptide': 886, 'tRNA': 46, 'rRNA': 9, 'ncRNA': 3, 'repeat_region': 2, 'source': 1})\n",
      "\n",
      "id: MKZR01000001.1\n",
      "number of features: 13084\n",
      "Counter({'gene': 6436, 'CDS': 6374, 'assembly_gap': 204, 'tRNA': 54, 'misc_feature': 4, 'rRNA': 4, 'ncRNA': 3, 'misc_binding': 2, 'source': 1, 'tmRNA': 1, 'repeat_region': 1})\n",
      "\n",
      "id: CP003587.1\n",
      "number of features: 9168\n",
      "Counter({'gene': 4562, 'CDS': 4507, 'tRNA': 49, 'misc_feature': 35, 'repeat_region': 5, 'ncRNA': 3, 'misc_binding': 3, 'rRNA': 3, 'source': 1})\n",
      "\n",
      "id: CP000240.1\n",
      "number of features: 5869\n",
      "Counter({'gene': 2942, 'CDS': 2862, 'tRNA': 45, 'repeat_region': 7, 'rRNA': 6, 'misc_feature': 5, 'source': 1, 'misc_RNA': 1})\n",
      "\n",
      "id: CP003590.1\n",
      "number of features: 9609\n",
      "Counter({'gene': 4665, 'CDS': 4268, 'sig_peptide': 613, 'tRNA': 42, 'rRNA': 9, 'ncRNA': 5, 'repeat_region': 4, 'misc_feature': 2, 'source': 1})\n",
      "\n",
      "id: BA000039.2\n",
      "number of features: 5101\n",
      "Counter({'gene': 2478, 'CDS': 2475, 'mobile_element': 98, 'tRNA': 42, 'ncRNA': 3, 'rRNA': 3, 'source': 1, 'tmRNA': 1})\n",
      "\n",
      "id: CP002198.1\n",
      "number of features: 11624\n",
      "Counter({'gene': 5664, 'CDS': 5422, 'sig_peptide': 475, 'tRNA': 47, 'rRNA': 9, 'ncRNA': 3, 'misc_binding': 2, 'source': 1, 'tmRNA': 1})\n",
      "\n",
      "id: CP003495.1\n",
      "number of features: 7566\n",
      "Counter({'gene': 3437, 'CDS': 3280, 'sig_peptide': 792, 'tRNA': 44, 'rRNA': 6, 'ncRNA': 4, 'misc_feature': 2, 'source': 1})\n",
      "\n",
      "id: BA000019.2\n",
      "number of features: 10816\n",
      "Counter({'gene': 5383, 'CDS': 5368, 'tRNA': 48, 'rRNA': 12, 'ncRNA': 2, 'source': 1, 'tmRNA': 1, 'misc_RNA': 1})\n",
      "\n"
     ]
    }
   ],
   "source": [
    "from collections import Counter\n",
    "\n",
    "for record in records:\n",
    "    print(\"id:\", record.id)\n",
    "    print(\"number of features:\", len(record.features))\n",
    "    print(Counter([x.type for x in record.features]))\n",
    "    print()"
   ]
  },
  {
   "cell_type": "markdown",
   "metadata": {},
   "source": [
    "Ok, wszystkie genomy mają zadnotowane regiony kodujące (CDS)."
   ]
  },
  {
   "cell_type": "code",
   "execution_count": 396,
   "metadata": {},
   "outputs": [],
   "source": [
    "def create_name(record):\n",
    "    return f\"{record.id}_{'_'.join(record.description.split(',')[0].split())}\""
   ]
  },
  {
   "cell_type": "markdown",
   "metadata": {},
   "source": [
    "Teraz wyfiltrujemy z każdego genomu wszystkie geny (jako sekwencje białkowe):"
   ]
  },
  {
   "cell_type": "code",
   "execution_count": 399,
   "metadata": {},
   "outputs": [],
   "source": [
    "from collections import defaultdict\n",
    "\n",
    "genes = defaultdict(list)\n",
    "for record in records:\n",
    "    sequence = record.seq\n",
    "    for feature in record.features:\n",
    "        if feature.type == \"CDS\":\n",
    "            try:\n",
    "                genes[create_name(record)].append(feature.qualifiers[\"translation\"][0])\n",
    "            except KeyError:\n",
    "                pass"
   ]
  },
  {
   "cell_type": "markdown",
   "metadata": {},
   "source": [
    "I zapiszemy je do oddzielnych plików fasta:"
   ]
  },
  {
   "cell_type": "code",
   "execution_count": 190,
   "metadata": {},
   "outputs": [],
   "source": [
    "for taxon, features in genes.items():\n",
    "    with open(f\"fasta/{taxon}.fa\", \"w\") as handle:\n",
    "        for i, feature in enumerate(features):\n",
    "            handle.write(f\">{taxon}_{i+1}\\n\")\n",
    "            handle.write(feature + \"\\n\")"
   ]
  },
  {
   "cell_type": "markdown",
   "metadata": {},
   "source": [
    "## Klastrowanie\n",
    "\n",
    "Do klastrowania użyję programu [MMseqs2](https://github.com/soedinglab/MMseqs2), pozwalającego na klastrowanie szybsze niż połączenie blast + MCL.\n",
    "\n",
    "Najpierw muszę połączyć wszystkie pliki fasta w jeden (`all_genes.fasta`):\n",
    "\n",
    "```bash\n",
    "cd fasta\n",
    "touch all_seqs.fasta\n",
    "for f in *.fa; do cat $f >> all_genes.fasta; done\n",
    "cd ..\n",
    "```"
   ]
  },
  {
   "cell_type": "markdown",
   "metadata": {},
   "source": [
    "Następnie wygenerować bazę danych:\n",
    "\n",
    "```bash\n",
    "mkdir clustering\n",
    "cd clustering\n",
    "mmseqs createdb ../fasta/all_genes.fasta DB\n",
    "```"
   ]
  },
  {
   "cell_type": "markdown",
   "metadata": {},
   "source": [
    "A potem dokonać klastrowania:\n",
    "\n",
    "```bash\n",
    "mmseqs cluster DB DB_clu tmp --threads 16 --min-seq-id 0.5 -c 0.8 --cov-mode 1\n",
    "```\n",
    "\n",
    "Opcja `--min-seq-id` jest raczej oczywista, natomiast opcja `-c` opisuje procent pokrycia sekwencji, zaś `--cov-mode` odpowiada za sposób obliczania tego pokrycia: w tym przypadku jest to opcja 1 z obrazka:\n",
    "\n",
    "![obrazek](https://github.com/soedinglab/mmseqs2/wiki/images/cov_modes.png)\n",
    "\n",
    "Na 16 wątkach zajęło to 1:05h.\n",
    "\n",
    "\n",
    "## Analiza klastrów\n",
    "\n",
    "Po pierwsze, trzeba dokonać konwersji do tsv, żeby można było lepiej zobaczyć co się dzieje z klastrami:\n",
    "\n",
    "```bash\n",
    "mmseqs createtsv DB DB DB_clu DB_clu.tsv\n",
    "```\n",
    "\n",
    "Zobaczmy, jak wyszło klastrowanie:\n"
   ]
  },
  {
   "cell_type": "code",
   "execution_count": 191,
   "metadata": {},
   "outputs": [],
   "source": [
    "with open(\"clustering/DB_clu.tsv\", \"r\") as handle:\n",
    "    clusters = defaultdict(list)\n",
    "    for line in handle:\n",
    "        cluster_repr, cluster_member = line.strip().split()\n",
    "        clusters[cluster_repr].append(cluster_member)"
   ]
  },
  {
   "cell_type": "code",
   "execution_count": 192,
   "metadata": {},
   "outputs": [
    {
     "data": {
      "text/plain": [
       "3773"
      ]
     },
     "execution_count": 192,
     "metadata": {},
     "output_type": "execute_result"
    }
   ],
   "source": [
    "len([x for x in clusters.values() if len(x) > 3])"
   ]
  },
  {
   "cell_type": "markdown",
   "metadata": {},
   "source": [
    "Mamy 3773 klastrów mających więcej niż trzy sekwencje. Ale to nie wystarczy: klastry muszą mieć jednoznaczne nazwy genomów. Dodatkowo bez sensu jest klaster posiadający tylko jeden genom."
   ]
  },
  {
   "cell_type": "code",
   "execution_count": 193,
   "metadata": {},
   "outputs": [],
   "source": [
    "def trim_number(s):\n",
    "    return \"_\".join(s.split(\"_\")[:-1])"
   ]
  },
  {
   "cell_type": "markdown",
   "metadata": {},
   "source": [
    "Liczność klastrów:"
   ]
  },
  {
   "cell_type": "code",
   "execution_count": 343,
   "metadata": {},
   "outputs": [],
   "source": [
    "clusters_filtered = {\n",
    "    cluster_repr: members\n",
    "    for cluster_repr, members in clusters.items()\n",
    "    if len(members) > 3\n",
    "}"
   ]
  },
  {
   "cell_type": "markdown",
   "metadata": {},
   "source": [
    "Jednoznaczne nazwy i jeden genom:"
   ]
  },
  {
   "cell_type": "code",
   "execution_count": 195,
   "metadata": {},
   "outputs": [],
   "source": [
    "clusters_filtered = {\n",
    "    cluster_repr: members\n",
    "    for cluster_repr, members in clusters_filtered.items()\n",
    "    if len(members) == len(set([trim_number(x) for x in members]))\n",
    "}"
   ]
  },
  {
   "cell_type": "code",
   "execution_count": 344,
   "metadata": {},
   "outputs": [
    {
     "data": {
      "text/plain": [
       "9.438908030744765"
      ]
     },
     "execution_count": 344,
     "metadata": {},
     "output_type": "execute_result"
    }
   ],
   "source": [
    "import numpy as np\n",
    "\n",
    "np.mean([len(x) for x in clusters_filtered.values()])"
   ]
  },
  {
   "cell_type": "code",
   "execution_count": 345,
   "metadata": {},
   "outputs": [
    {
     "data": {
      "text/plain": [
       "3773"
      ]
     },
     "execution_count": 345,
     "metadata": {},
     "output_type": "execute_result"
    }
   ],
   "source": [
    "len(clusters_filtered)"
   ]
  },
  {
   "cell_type": "markdown",
   "metadata": {},
   "source": [
    "Ok, mamy 2657 klastrów. Być może dalej dokonamy filtrowania, na razie wyciągnę sekwencje do oddzielnych plików fasta.\n",
    "\n",
    "W tym celu należy wygenerować plik z sekwencjami:\n",
    "\n",
    "```bash\n",
    "mmseqs createseqfiledb DB DB_clu DB_seqs_clustered\n",
    "mmseqs result2flat DB DB DB_seqs_clustered ../fasta/clustered_seqs.fasta\n",
    "```\n",
    "\n",
    "Następnie sparsuję plik fasta. To nie takie proste, bo ma on specyficzną strukturę: kiedy zaczyna się wypisywanie klastra, są dwa identyfikatory po sobie: identyfikator centroidu klastra, a potem pierwszego członka danego klastra (jest to centroid). "
   ]
  },
  {
   "cell_type": "code",
   "execution_count": 346,
   "metadata": {},
   "outputs": [],
   "source": [
    "sequences_clustered = {}\n",
    "."
   ]
  },
  {
   "cell_type": "code",
   "execution_count": 347,
   "metadata": {},
   "outputs": [
    {
     "data": {
      "text/plain": [
       "(3773, 3773)"
      ]
     },
     "execution_count": 347,
     "metadata": {},
     "output_type": "execute_result"
    }
   ],
   "source": [
    "len(sequences_clustered), len(clusters_filtered)"
   ]
  },
  {
   "cell_type": "markdown",
   "metadata": {},
   "source": [
    "Ok, jest tyle samo klastrów. Jeszcze dla porządku sprawdzę, czy listy nazw genów są takie same:"
   ]
  },
  {
   "cell_type": "code",
   "execution_count": 348,
   "metadata": {},
   "outputs": [],
   "source": [
    "for key in sequences_clustered:\n",
    "    v1 = sequences_clustered[key]\n",
    "    v2 = clusters_filtered[key]\n",
    "    if not (all([x1 == x2 for x1, x2 in zip([x[0] for x in v1], v2)])):\n",
    "        print(f\"Error at {key}\")"
   ]
  },
  {
   "cell_type": "markdown",
   "metadata": {},
   "source": [
    "Ok. Sprawdzę jeszcze, jakie są proporcje poszczególnych taksonów we wszystkich wybranych klastrach:"
   ]
  },
  {
   "cell_type": "code",
   "execution_count": 349,
   "metadata": {},
   "outputs": [
    {
     "name": "stdout",
     "output_type": "stream",
     "text": [
      "18\n",
      "1427 AP008231.1_Synechococcus_elongatus\n",
      "976 CP003495.1_Cyanobium_gracile\n",
      "656 CP007754.1_Prochlorococcus_sp.\n",
      "771 BX548175.1_Prochlorococcus_marinus\n",
      "1499 BA000039.2_Thermosynechococcus_elongatus\n",
      "2715 MKZR01000001.1_Moorea_producens\n",
      "2322 CP000828.1_Acaryochloris_marina\n",
      "2910 CP003597.1_Chroococcidiopsis_thermalis\n",
      "3101 CP003549.1_Rivularia_sp.\n",
      "2738 CP002198.1_Cyanothece_sp.\n",
      "2560 CP003590.1_Pleurocapsa_sp.\n",
      "2224 CP000393.1_Trichodesmium_erythraeum\n",
      "1355 CP000240.1_Synechococcus_sp.\n",
      "2947 CP003659.1_Anabaena_cylindrica\n",
      "1390 CP017675.1_Gloeomargarita_lithophora\n",
      "3046 BA000019.2_Nostoc_sp.\n",
      "1543 BA000045.2_Gloeobacter_violaceus\n",
      "1433 CP003587.1_Gloeobacter_kilaueensis\n"
     ]
    }
   ],
   "source": [
    "taxon_list = []\n",
    "for _, vals in sequences_clustered.items():\n",
    "    taxon_list.extend([trim_number(x[0]) for x in vals])\n",
    "c = Counter(taxon_list)\n",
    "print(len(c))\n",
    "for taxon, count in c.items():\n",
    "    print(count, taxon)"
   ]
  },
  {
   "cell_type": "markdown",
   "metadata": {},
   "source": [
    "Zaraz, na początku było 18 taksonów. Wychodzi na to, że 2 były zbyt mało podobne, że się w ogóle sklastrowały. No cóż, kontynuuję analizę na 18-tu.\n",
    "\n",
    "Co do proporcji to zobaczymy, mam nadzieję, żę jakoś fatalnie to nie wpłynie na wynik.\n",
    "\n",
    "```bash\n",
    "mkdir fasta/clusters\n",
    "```"
   ]
  },
  {
   "cell_type": "code",
   "execution_count": 353,
   "metadata": {},
   "outputs": [],
   "source": [
    "for i, (cluster_center, cluster_members) in enumerate(sequences_clustered.items()):\n",
    "    with open(f\"all_genes/fasta/clusters/cluster{i}.fasta\", \"w\") as handle:\n",
    "        for gene, sequence in cluster_members:\n",
    "            handle.write(f\">{gene}\\n\")\n",
    "            handle.write(sequence + \"\\n\")"
   ]
  },
  {
   "cell_type": "markdown",
   "metadata": {},
   "source": [
    "Teraz zrobię przyrównania sekwencji. Wykorzystam program [MAFFT](https://mafft.cbrc.jp/alignment/software/) z opcją `--auto`.\n",
    "\n",
    "```bash\n",
    "mkdir fasta/alignments\n",
    "cd fasta/clusters\n",
    "for f in *.fasta; do mafft --thread 16 --auto $f  > ../alignments/$f; done\n",
    "```\n",
    "\n",
    "Zajęło to około 10 minut."
   ]
  },
  {
   "cell_type": "markdown",
   "metadata": {},
   "source": [
    "Następnie zbuduję drzewa korzystając z programu [RAxML](http://www.exelixis-lab.org/software.html).\n",
    "\n",
    "Tutaj zawartość pliku `infer_trees.sh`, którego wywołam z nowo stworzonego folderu `trees` w taki sposób: `bash infer_trees.sh ../fasta/alignments`:\n",
    "```bash\n",
    "for f in $1/*.fasta\n",
    "do\n",
    "    filename=$(basename -- \"$f\")\n",
    "    filename=\"${filename%.*}\"\n",
    "    mkdir $filename\n",
    "    cd $filename\n",
    "    raxmlHPC-PTHREADS-AVX -s ../$f -T 16 -m PROTGAMMAAUTO -n $filename.out -N 100 -x $RANDOM -p $RANDOM\n",
    "    cd ..\n",
    "done\n",
    "```\n",
    "\n",
    "Trochę wyjaśnienia, po co konkretne opcje:\n",
    "- `-T 16`: liczba wątków\n",
    "- `-m GTRGAMMA`: model ewolucji GTR z modelem gamma heteroniczności temp ewolucji na różnych pozycjach\n",
    "- `-N autoMRE`: RAxML stara się automatycznie dobrać liczbę potwórzeń boostrap\n",
    "- `-x $RANDOM`: losowy seed do analizy bootstrap, która dodatkowo jest szybsza, bo wykorzystuje jakąś heurystkę\n",
    "- `-p $RANDOM`: losowy seed do startowych drzew opartych na największej parsymonii\n",
    "\n",
    "Tutaj już trochę gorzej z szybkością liczenia: liczyło się 12 godzin i 22 minuty (na serwerze z wykorzystaniem 16 wątków). \n",
    "\n",
    "Teraz dla każdego klastra (rodziny genów) obliczę drzewo konsensusowe z powtórzeń bootstrap metodą majority rule consensus.\n",
    "\n",
    "```bash\n",
    "mkdir consensus\n",
    "```\n",
    "\n",
    "Zawartość pliku `compute_consensus.sh`, odpalanego z katalogu `trees`.\n",
    "\n",
    "```bash\n",
    "for f in cluster*\n",
    "do\n",
    "    cd $f\n",
    "    raxmlHPC-PTHREADS-AVX -J MR -z \"RAxML_bootstrap.${f}.out\" -T 16 -m PROTGAMMAAUTO -n $f\n",
    "    cp RAxML_MajorityRuleConsensusTree.$f ../consensus\n",
    "    cd ..\n",
    "done\n",
    "```\n",
    "\n",
    "To zajęło tylko 17 sekund.\n",
    "\n",
    "Zrzucę teraz wszystkie drzewa to jednego pliku:\n",
    "\n",
    "```bash\n",
    "cd consensus\n",
    "touch all_consensus_trees.txt\n",
    "for f in RAxML_MajorityRuleConsensusTree.cluster*; do cat $f >> all_consensus_trees.txt; done\n",
    "cd ..\n",
    "```\n",
    "\n",
    "\n"
   ]
  },
  {
   "cell_type": "code",
   "execution_count": 370,
   "metadata": {},
   "outputs": [],
   "source": [
    "from Bio import Phylo\n",
    "\n",
    "trees = list(Phylo.parse(\"all_genes/trees/consensus/all_consensus_trees.txt\", \"newick\"))"
   ]
  },
  {
   "cell_type": "code",
   "execution_count": 372,
   "metadata": {},
   "outputs": [
    {
     "data": {
      "text/plain": [
       "3773"
      ]
     },
     "execution_count": 372,
     "metadata": {},
     "output_type": "execute_result"
    }
   ],
   "source": [
    "len(trees)"
   ]
  },
  {
   "cell_type": "markdown",
   "metadata": {},
   "source": [
    "Usunę teraz wszystko co zbędne z drzew: zostawię same topologie"
   ]
  },
  {
   "cell_type": "code",
   "execution_count": 373,
   "metadata": {},
   "outputs": [],
   "source": [
    "import re\n",
    "import copy\n",
    "\n",
    "trees_2 = copy.deepcopy(trees)\n",
    "\n",
    "\n",
    "for i, tree in enumerate(trees_2):\n",
    "    for nonterminal in tree.get_nonterminals():\n",
    "        nonterminal.comment = None\n",
    "        nonterminal.branch_length = None\n",
    "    for terminal in tree.get_terminals():\n",
    "        terminal.name = trim_number(terminal.name)"
   ]
  },
  {
   "cell_type": "code",
   "execution_count": 374,
   "metadata": {},
   "outputs": [],
   "source": [
    "from Bio.Phylo import NewickIO\n",
    "\n",
    "writer = NewickIO.Writer([tre for tre in trees_2 if tre.is_bifurcating()])"
   ]
  },
  {
   "cell_type": "code",
   "execution_count": 375,
   "metadata": {},
   "outputs": [],
   "source": [
    "with open(\"superdrzewa_soft/all_gene_trees.txt\", \"w\") as handle:\n",
    "    for newick_tree in writer.to_strings(plain=True):\n",
    "        handle.write(newick_tree + \"\\n\")"
   ]
  },
  {
   "cell_type": "code",
   "execution_count": 376,
   "metadata": {},
   "outputs": [],
   "source": [
    "parser = NewickIO.Parser.from_string(\n",
    "    \"(((CP003495.1_Cyanobium_gracile,(((BA000039.2_Thermosynechococcus_elongatus,CP017675.1_Gloeomargarita_lithophora),(((((CP000393.1_Trichodesmium_erythraeum,MKZR01000001.1_Moorea_producens),(CP002198.1_Cyanothece_sp.,CP003590.1_Pleurocapsa_sp.)),((CP003549.1_Rivularia_sp.,(BA000019.2_Nostoc_sp.,CP003659.1_Anabaena_cylindrica)),CP003597.1_Chroococcidiopsis_thermalis)),CP000828.1_Acaryochloris_marina),(CP000240.1_Synechococcus_sp.,(CP003587.1_Gloeobacter_kilaueensis,BA000045.2_Gloeobacter_violaceus)))),AP008231.1_Synechococcus_elongatus)),BX548175.1_Prochlorococcus_marinus),CP007754.1_Prochlorococcus_sp.)\"\n",
    ")\n",
    "final_tree = next(parser.parse())"
   ]
  },
  {
   "cell_type": "code",
   "execution_count": 377,
   "metadata": {},
   "outputs": [
    {
     "name": "stdout",
     "output_type": "stream",
     "text": [
      "Tree(rooted=False, weight=1.0)\n",
      "    Clade()\n",
      "        Clade()\n",
      "            Clade()\n",
      "                Clade(name='CP003495.1_Cyanobium_gracile')\n",
      "                Clade()\n",
      "                    Clade()\n",
      "                        Clade()\n",
      "                            Clade(name='BA000039.2_Thermosynechococcus_elongatus')\n",
      "                            Clade(name='CP017675.1_Gloeomargarita_lithophora')\n",
      "                        Clade()\n",
      "                            Clade()\n",
      "                                Clade()\n",
      "                                    Clade()\n",
      "                                        Clade()\n",
      "                                            Clade(name='CP000393.1_Trichodesmium_erythraeum')\n",
      "                                            Clade(name='MKZR01000001.1_Moorea_producens')\n",
      "                                        Clade()\n",
      "                                            Clade(name='CP002198.1_Cyanothece_sp.')\n",
      "                                            Clade(name='CP003590.1_Pleurocapsa_sp.')\n",
      "                                    Clade()\n",
      "                                        Clade()\n",
      "                                            Clade(name='CP003549.1_Rivularia_sp.')\n",
      "                                            Clade()\n",
      "                                                Clade(name='BA000019.2_Nostoc_sp.')\n",
      "                                                Clade(name='CP003659.1_Anabaena_cylindrica')\n",
      "                                        Clade(name='CP003597.1_Chroococcidiopsis_thermalis')\n",
      "                                Clade(name='CP000828.1_Acaryochloris_marina')\n",
      "                            Clade()\n",
      "                                Clade(name='CP000240.1_Synechococcus_sp.')\n",
      "                                Clade()\n",
      "                                    Clade(name='CP003587.1_Gloeobacter_kilaueensis')\n",
      "                                    Clade(name='BA000045.2_Gloeobacter_violaceus')\n",
      "                    Clade(name='AP008231.1_Synechococcus_elongatus')\n",
      "            Clade(name='BX548175.1_Prochlorococcus_marinus')\n",
      "        Clade(name='CP007754.1_Prochlorococcus_sp.')\n"
     ]
    }
   ],
   "source": [
    "print(final_tree)"
   ]
  },
  {
   "cell_type": "code",
   "execution_count": 378,
   "metadata": {},
   "outputs": [
    {
     "name": "stdout",
     "output_type": "stream",
     "text": [
      "                           ___ CP007754.1_Prochlorococcus_sp.\n",
      "                       ___|\n",
      "                   ___|   |___ BX548175.1_Prochlorococcus_marinus\n",
      "                  |   |\n",
      "              ____|   |___ CP003495.1_Cyanobium_gracile\n",
      "             |    |\n",
      "          ___|    |___ AP008231.1_Synechococcus_elongatus\n",
      "         |   |\n",
      "         |   |     ___ BA000039.2_Thermosynechococcus_elongatus\n",
      "         |   |____|\n",
      "         |        |___ CP017675.1_Gloeomargarita_lithophora\n",
      "         |\n",
      "         |                 ___ CP000393.1_Trichodesmium_erythraeum\n",
      "         |             ___|\n",
      "      ___|            |   |___ MKZR01000001.1_Moorea_producens\n",
      "     |   |         ___|\n",
      "     |   |        |   |    ___ CP002198.1_Cyanothece_sp.\n",
      "     |   |        |   |___|\n",
      "     |   |        |       |___ CP003590.1_Pleurocapsa_sp.\n",
      "     |   |    ____|\n",
      "     |   |   |    |        ___ CP003549.1_Rivularia_sp.\n",
      "     |   |   |    |    ___|\n",
      "  ___|   |   |    |   |   |    ____ BA000019.2_Nostoc_sp.\n",
      " |   |   |___|    |___|   |___|\n",
      " |   |       |        |       |____ CP003659.1_Anabaena_cylindrica\n",
      " |   |       |        |\n",
      " |   |       |        |___ CP003597.1_Chroococcidiopsis_thermalis\n",
      " |   |       |\n",
      "_|   |       |____ CP000828.1_Acaryochloris_marina\n",
      " |   |\n",
      " |   |___ CP000240.1_Synechococcus_sp.\n",
      " |\n",
      " |___ CP003587.1_Gloeobacter_kilaueensis\n",
      " |\n",
      " |___ BA000045.2_Gloeobacter_violaceus\n",
      "\n"
     ]
    }
   ],
   "source": [
    "final_tree.root_with_outgroup(\n",
    "    [\"CP003587.1_Gloeobacter_kilaueensis\", \"BA000045.2_Gloeobacter_violaceus\"]\n",
    ")\n",
    "Phylo.draw_ascii(final_tree)"
   ]
  },
  {
   "cell_type": "code",
   "execution_count": 321,
   "metadata": {},
   "outputs": [],
   "source": [
    "!mkdir trees/consensus_biopython"
   ]
  },
  {
   "cell_type": "code",
   "execution_count": 335,
   "metadata": {},
   "outputs": [],
   "source": [
    "import glob\n",
    "import os\n",
    "\n",
    "all_trees = []\n",
    "trees_for_fasturec = []\n",
    "for fpath in glob.glob(\"trees/cluster*\"):\n",
    "    folder_name = os.path.split(fpath)[1]\n",
    "    trees = Phylo.parse(f\"{fpath}/RAxML_bootstrap.{folder_name}.out\", \"newick\")\n",
    "    consensus_tree = majority_consensus(trees, cutoff=0.25)\n",
    "    all_trees.append(consensus_tree)\n",
    "    Phylo.write(\n",
    "        consensus_tree, f\"trees/consensus_biopython/{folder_name}.nwk\", \"newick\"\n",
    "    )\n",
    "    for nonterminal in consensus_tree.get_nonterminals():\n",
    "        nonterminal.comment = None\n",
    "        nonterminal.branch_length = None\n",
    "    trees_for_fasturec.append(consensus_tree)"
   ]
  },
  {
   "cell_type": "code",
   "execution_count": 336,
   "metadata": {},
   "outputs": [
    {
     "data": {
      "text/plain": [
       "1597"
      ]
     },
     "execution_count": 336,
     "metadata": {},
     "output_type": "execute_result"
    }
   ],
   "source": [
    "len([t for t in trees_for_fasturec if t.is_bifurcating()])"
   ]
  },
  {
   "cell_type": "code",
   "execution_count": 337,
   "metadata": {},
   "outputs": [],
   "source": [
    "writer = NewickIO.Writer([tre for tre in trees_for_fasturec if tre.is_bifurcating()])\n",
    "with open(\"superdrzewa_soft/all_trees_for_fasturec_biopython.txt\", \"w\") as handle:\n",
    "    for newick_tree in writer.to_strings(plain=True):\n",
    "        handle.write(newick_tree + \"\\n\")"
   ]
  },
  {
   "cell_type": "code",
   "execution_count": 381,
   "metadata": {},
   "outputs": [],
   "source": [
    "parser = NewickIO.Parser.from_string(\n",
    "    \"(((((BA000039.2_Thermosynechococcus_elongatus,(((((CP003590.1_Pleurocapsa_sp.,CP002198.1_Cyanothece_sp.),(CP000393.1_Trichodesmium_erythraeum,MKZR01000001.1_Moorea_producens)),(((BA000019.2_Nostoc_sp.,CP003659.1_Anabaena_cylindrica),CP003549.1_Rivularia_sp.),CP003597.1_Chroococcidiopsis_thermalis)),CP000828.1_Acaryochloris_marina),((CP000240.1_Synechococcus_sp.,CP017675.1_Gloeomargarita_lithophora),(CP003587.1_Gloeobacter_kilaueensis,BA000045.2_Gloeobacter_violaceus)))),AP008231.1_Synechococcus_elongatus),CP003495.1_Cyanobium_gracile),BX548175.1_Prochlorococcus_marinus),CP007754.1_Prochlorococcus_sp.)\"\n",
    ")\n",
    "final_tree = next(parser.parse())"
   ]
  },
  {
   "cell_type": "code",
   "execution_count": 397,
   "metadata": {},
   "outputs": [
    {
     "data": {
      "image/png": "[encoded data removed]",
      "text/plain": [
       "<Figure size 432x288 with 1 Axes>"
      ]
     },
     "metadata": {
      "needs_background": "light"
     },
     "output_type": "display_data"
    }
   ],
   "source": [
    "final_tree.root_with_outgroup(\n",
    "    [\"CP003587.1_Gloeobacter_kilaueensis\", \"BA000045.2_Gloeobacter_violaceus\",]\n",
    ")\n",
    "Phylo.draw(final_tree)"
   ]
  },
  {
   "cell_type": "code",
   "execution_count": 394,
   "metadata": {},
   "outputs": [
    {
     "name": "stdout",
     "output_type": "stream",
     "text": [
      "Counter({'CP002198': 2, 'CP000240': 1, 'CP017675': 1, 'BA000039': 1, 'CP000828': 1, 'AP008231': 1, 'CP000393': 1, 'CP003549': 1, 'MKZR01000001': 1, 'CP007754': 1, 'CP003495': 1, 'CP003597': 1, 'BA000019': 1, 'CP003659': 1, 'CP003590': 1, 'BX548175': 1, 'BA000045': 1})\n"
     ]
    }
   ],
   "source": [
    "tree_name = set([x.name.split(\".\")[0] for x in final_tree.get_terminals()])\n",
    "file_names = Counter([x.strip() for x in open(\"accessions.txt\", \"r\")])\n",
    "print(file_names)"
   ]
  },
  {
   "cell_type": "code",
   "execution_count": 358,
   "metadata": {},
   "outputs": [
    {
     "name": "stdout",
     "output_type": "stream",
     "text": [
      "210\n"
     ]
    }
   ],
   "source": [
    "!ls -l all_genes/trees | wc -l"
   ]
  },
  {
   "cell_type": "code",
   "execution_count": 360,
   "metadata": {},
   "outputs": [
    {
     "data": {
      "text/plain": [
       "16.966666666666665"
      ]
     },
     "execution_count": 360,
     "metadata": {},
     "output_type": "execute_result"
    }
   ],
   "source": [
    "(3773 - 210) * (60 / 210) / 60"
   ]
  }
 ],
 "metadata": {
  "kernelspec": {
   "display_name": "Python 3",
   "language": "python",
   "name": "python3"
  },
  "language_info": {
   "codemirror_mode": {
    "name": "ipython",
    "version": 3
   },
   "file_extension": ".py",
   "mimetype": "text/x-python",
   "name": "python",
   "nbconvert_exporter": "python",
   "pygments_lexer": "ipython3",
   "version": "3.7.7"
  }
 },
 "nbformat": 4,
 "nbformat_minor": 4
}
